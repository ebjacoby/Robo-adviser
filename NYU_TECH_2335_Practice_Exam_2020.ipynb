{
  "nbformat": 4,
  "nbformat_minor": 0,
  "metadata": {
    "colab": {
      "name": "NYU TECH 2335 - Practice Exam - 2020",
      "provenance": [],
      "toc_visible": true,
      "include_colab_link": true
    },
    "kernelspec": {
      "name": "python3",
      "display_name": "Python 3"
    }
  },
  "cells": [
    {
      "cell_type": "markdown",
      "metadata": {
        "id": "view-in-github",
        "colab_type": "text"
      },
      "source": [
        "<a href=\"https://colab.research.google.com/github/ebjacoby/Robo-adviser/blob/master/NYU_TECH_2335_Practice_Exam_2020.ipynb\" target=\"_parent\"><img src=\"https://colab.research.google.com/assets/colab-badge.svg\" alt=\"Open In Colab\"/></a>"
      ]
    },
    {
      "cell_type": "markdown",
      "metadata": {
        "id": "ereCaV8JxEJY",
        "colab_type": "text"
      },
      "source": [
        "# NYU TECH 2335 - Practice Exam (Summer 2020)\n",
        "\n",
        "Hello and welcome to this practice exam! Use this practice exam notebook to **familiarize yourself with the exam contents and more importantly, the exam format** (i.e. using Google CoLab Notebooks). \n",
        "\n",
        "## Setup\n",
        "\n",
        "  1. Please take a moment to visit the \"File\" menu and select \"Save a copy in Drive\" to **create a copy of this notebook under your own control** (using your NYU gmail account).\n",
        "  2. Rename your document to include your NYU Net ID (e.g. \"NYU TECH 2335 - Practice Exam - 2020 - User123\").\n",
        "  3. Visit the \"Share\" settings at the top right of your new notebook to **share your notebook with the instructors**: mrossett@stern.nyu.edu AND hns292@nyu.edu.\n",
        "\n",
        "You will write code in your own copy of the notebook, then when you're done, fill out this Google Form (link TBA) to submit a link to your notebook.\n",
        "\n",
        "## Instructions\n",
        "\n",
        "Read the questions below. Each question is described in a \"text\" cell. And there is some starter code in a corresponding \"code\" cell. Your mission is to write more code in the \"code\" cell, to produce the desired output.\n",
        "\n",
        "You shouldn't need to modify any of the contents of the \"text\" cell.\n",
        "\n",
        "At any time, you may press the \"play\" button at the top left of any \"code cell\" to run the code and see if it is producing the desired results.\n",
        "\n",
        "Optionally revise your code and re-run as many times as necessary, within the time provided, to make your code work.\n"
      ]
    },
    {
      "cell_type": "markdown",
      "metadata": {
        "id": "OT8FITLT2xrd",
        "colab_type": "text"
      },
      "source": [
        "\n",
        "### Question 1\n",
        "\n",
        "Given the Python variable called `products` provided below, write Python code which references that variable to perform each of the following tasks...\n",
        "\n",
        "#### Part A\n",
        "\n",
        "Assuming the identifier, or `\"id\"` attribute, of each product is and will always be unique, and assuming the order of salads may vary, \"print\" the name of the product whose identifier is equal to `19` (i.e. `\"Gluten Free Quinoa Three Cheese & Mushroom Blend\"`).\n",
        "\n",
        "#### Part B\n",
        "\n",
        "Assuming the `\"price\"` attribute represents a product's cost to the consumer, and assuming products may be added or removed at any time in the future, \"print\" the total cost of all products (i.e. currently `31.72`).\n",
        "\n",
        "> NOTE: no need to apply USD-formatting. \n"
      ]
    },
    {
      "cell_type": "code",
      "metadata": {
        "id": "uVC3Rjbf2yCw",
        "colab_type": "code",
        "outputId": "b4ee59e2-ea1b-4df1-ab4a-a9f16ec9151f",
        "colab": {
          "base_uri": "https://localhost:8080/",
          "height": 139
        }
      },
      "source": [
        "#\n",
        "# QUESTION 1\n",
        "#\n",
        "\n",
        "products = [\n",
        "    {\"id\":1, \"name\": \"Chocolate Sandwich Cookies\", \"department\": \"snacks\", \"aisle\": \"cookies cakes\", \"price\": 3.50},\n",
        "    {\"id\":2, \"name\": \"All-Seasons Salt\", \"department\": \"pantry\", \"aisle\": \"spices seasonings\", \"price\": 4.99},\n",
        "    {\"id\":3, \"name\": \"Robust Golden Unsweetened Oolong Tea\", \"department\": \"beverages\", \"aisle\": \"tea\", \"price\": 2.49},\n",
        "    {\"id\":18, \"name\": \"Pizza for One Suprema Frozen Pizza\", \"department\": \"frozen\", \"aisle\": \"frozen pizza\", \"price\": 12.50},\n",
        "    {\"id\":19, \"name\": \"Gluten Free Quinoa Three Cheese & Mushroom Blend\", \"department\": \"dry goods pasta\", \"aisle\": \"grains rice dried goods\", \"price\": 3.99},\n",
        "    {\"id\":20, \"name\": \"Pomegranate Cranberry & Aloe Vera Enrich Drink\", \"department\": \"beverages\", \"aisle\": \"juice nectars\", \"price\": 4.25}\n",
        "] # based on data from Instacart: https://www.instacart.com/datasets/grocery-shopping-2017\n",
        "\n",
        "print(\"------------------\")\n",
        "print(\"PROCESSING PRODUCTS INVENTORY...\")\n",
        "print(\"------------------\")\n",
        "\n",
        "#\n",
        "# PART A\n",
        "#\n",
        "\n",
        "\n",
        "print(\"HELLO\")\n",
        "\n",
        "print(products) # todo: write some Python code here to answer the question!\n",
        "\n",
        "\n",
        "#\n",
        "# PART B\n",
        "#\n",
        "\n",
        "print(products) # todo: write some Python code here to answer the question!\n",
        "\n",
        "\n"
      ],
      "execution_count": 0,
      "outputs": [
        {
          "output_type": "stream",
          "text": [
            "------------------\n",
            "PROCESSING PRODUCTS INVENTORY...\n",
            "------------------\n",
            "HELLO\n",
            "[{'id': 1, 'name': 'Chocolate Sandwich Cookies', 'department': 'snacks', 'aisle': 'cookies cakes', 'price': 3.5}, {'id': 2, 'name': 'All-Seasons Salt', 'department': 'pantry', 'aisle': 'spices seasonings', 'price': 4.99}, {'id': 3, 'name': 'Robust Golden Unsweetened Oolong Tea', 'department': 'beverages', 'aisle': 'tea', 'price': 2.49}, {'id': 18, 'name': 'Pizza for One Suprema Frozen Pizza', 'department': 'frozen', 'aisle': 'frozen pizza', 'price': 12.5}, {'id': 19, 'name': 'Gluten Free Quinoa Three Cheese & Mushroom Blend', 'department': 'dry goods pasta', 'aisle': 'grains rice dried goods', 'price': 3.99}, {'id': 20, 'name': 'Pomegranate Cranberry & Aloe Vera Enrich Drink', 'department': 'beverages', 'aisle': 'juice nectars', 'price': 4.25}]\n",
            "[{'id': 1, 'name': 'Chocolate Sandwich Cookies', 'department': 'snacks', 'aisle': 'cookies cakes', 'price': 3.5}, {'id': 2, 'name': 'All-Seasons Salt', 'department': 'pantry', 'aisle': 'spices seasonings', 'price': 4.99}, {'id': 3, 'name': 'Robust Golden Unsweetened Oolong Tea', 'department': 'beverages', 'aisle': 'tea', 'price': 2.49}, {'id': 18, 'name': 'Pizza for One Suprema Frozen Pizza', 'department': 'frozen', 'aisle': 'frozen pizza', 'price': 12.5}, {'id': 19, 'name': 'Gluten Free Quinoa Three Cheese & Mushroom Blend', 'department': 'dry goods pasta', 'aisle': 'grains rice dried goods', 'price': 3.99}, {'id': 20, 'name': 'Pomegranate Cranberry & Aloe Vera Enrich Drink', 'department': 'beverages', 'aisle': 'juice nectars', 'price': 4.25}]\n"
          ],
          "name": "stdout"
        }
      ]
    },
    {
      "cell_type": "markdown",
      "metadata": {
        "id": "3q5IyrlqTmGH",
        "colab_type": "text"
      },
      "source": [
        "### Question 2\n",
        "\n",
        "Given the Python variable called `salads` provided below, write Python code which references that variable to perform each of the following tasks...\n",
        "\n",
        "#### Part A\n",
        "\n",
        "Assuming the identifier, or `\"id\"` attribute, of each salad is and will always be unique, and assuming the order of salads may vary, \"print\" the name of the salad whose identifier is equal to `3` (i.e. `\"Waldorf\"`).\n",
        "\n",
        "#### Part B\n",
        "\n",
        "Assuming the `\"price\"` attribute represents a salad’s cost to the consumer, \"print\" the number of salads which are more expensive than ten dollars (i.e. `3`).\n",
        "\n",
        "\n"
      ]
    },
    {
      "cell_type": "code",
      "metadata": {
        "id": "feGc4GJpTpxn",
        "colab_type": "code",
        "outputId": "8dd4a20f-8c25-4705-ada9-aef17ef1c66f",
        "colab": {
          "base_uri": "https://localhost:8080/",
          "height": 105
        }
      },
      "source": [
        "#\n",
        "# QUESTION 2\n",
        "#\n",
        "\n",
        "salads = [\n",
        "    {\"id\": 1, \"name\": \"Caesar\", \"price\": 8.99},\n",
        "    {\"id\": 2, \"name\": \"Chicken Caesar\", \"price\": 11.99},\n",
        "    {\"id\": 3, \"name\": \"Waldorf\", \"price\": 10.99},\n",
        "    {\"id\": 4, \"name\": \"Cobb\", \"price\": 9.99},\n",
        "    {\"id\": 5, \"name\": \"Caprese\", \"price\": 9.99},\n",
        "    {\"id\": 6, \"name\": \"Nicoise\", \"price\": 10.99},\n",
        "]\n",
        "\n",
        "print(\"------------------\")\n",
        "print(\"PROCESSING KITCHEN DATA...\")\n",
        "print(\"------------------\")\n",
        "\n",
        "#\n",
        "# PART A\n",
        "#\n",
        "\n",
        "print(salads) # todo: write some Python code here to answer the question!\n",
        "\n",
        "\n",
        "#\n",
        "# PART B\n",
        "#\n",
        "\n",
        "print(salads) # todo: write some Python code here to answer the question!\n",
        "\n"
      ],
      "execution_count": 0,
      "outputs": [
        {
          "output_type": "stream",
          "text": [
            "------------------\n",
            "PROCESSING STOCK DATA...\n",
            "------------------\n",
            "{'Meta Data': {'1. Information': 'Daily Prices (open, high, low, close) and Volumes', '2. Symbol': 'MSFT', '3. Last Refreshed': '2020-06-08', '4. Output Size': 'Compact', '5. Time Zone': 'US/Eastern'}, 'Time Series (Daily)': {'2020-06-08': {'1. open': '185.9400', '2. high': '188.5500', '3. low': '184.4400', '4. close': '188.3600', '5. volume': '33123035'}, '2020-06-05': {'1. open': '182.6200', '2. high': '187.7300', '3. low': '182.0100', '4. close': '187.2000', '5. volume': '39893643'}, '2020-06-04': {'1. open': '184.3000', '2. high': '185.8400', '3. low': '182.3000', '4. close': '182.9200', '5. volume': '28761809'}}}\n"
          ],
          "name": "stdout"
        }
      ]
    },
    {
      "cell_type": "markdown",
      "metadata": {
        "colab_type": "text",
        "id": "7Be2pEH9kr5l"
      },
      "source": [
        "### Question 3\n",
        "\n",
        "Given the Python variable called `stock_data` provided below, write Python code which references that variable to perform each of the following tasks...\n",
        "\n",
        "#### Part A\n",
        "\n",
        "Assuming the latest day will always be the first one listed in the time series, \"print\" the latest closing price of this stock (i.e. `\"188.3600\"`).\n",
        "\n",
        "> NOTE: it is not necessary to format the price as USD\n"
      ]
    },
    {
      "cell_type": "code",
      "metadata": {
        "id": "ugsdHMyVlf4X",
        "colab_type": "code",
        "outputId": "ebb8f108-15ab-4421-9f1c-2a1c99ea9a79",
        "colab": {
          "base_uri": "https://localhost:8080/",
          "height": 105
        }
      },
      "source": [
        "#\n",
        "# QUESTION 3\n",
        "#\n",
        "\n",
        "stock_data = {\n",
        "    \"Meta Data\": {\n",
        "        \"1. Information\": \"Daily Prices (open, high, low, close) and Volumes\",\n",
        "        \"2. Symbol\": \"MSFT\",\n",
        "        \"3. Last Refreshed\": \"2020-06-08\",\n",
        "        \"4. Output Size\": \"Compact\",\n",
        "        \"5. Time Zone\": \"US/Eastern\"\n",
        "    },\n",
        "    \"Time Series (Daily)\": {\n",
        "        \"2020-06-08\": {\n",
        "            \"1. open\": \"185.9400\",\n",
        "            \"2. high\": \"188.5500\",\n",
        "            \"3. low\": \"184.4400\",\n",
        "            \"4. close\": \"188.3600\",\n",
        "            \"5. volume\": \"33123035\"\n",
        "        },\n",
        "        \"2020-06-05\": {\n",
        "            \"1. open\": \"182.6200\",\n",
        "            \"2. high\": \"187.7300\",\n",
        "            \"3. low\": \"182.0100\",\n",
        "            \"4. close\": \"187.2000\",\n",
        "            \"5. volume\": \"39893643\"\n",
        "        },\n",
        "        \"2020-06-04\": {\n",
        "            \"1. open\": \"184.3000\",\n",
        "            \"2. high\": \"185.8400\",\n",
        "            \"3. low\": \"182.3000\",\n",
        "            \"4. close\": \"182.9200\",\n",
        "            \"5. volume\": \"28761809\"\n",
        "        }\n",
        "    }\n",
        "}\n",
        "\n",
        "print(\"------------------\")\n",
        "print(\"PROCESSING STOCK DATA...\")\n",
        "print(\"------------------\")\n",
        "\n",
        "#\n",
        "# PART A\n",
        "#\n",
        "\n",
        "print(stock_data) # todo: write some Python code here to answer the question!\n",
        "\n"
      ],
      "execution_count": 0,
      "outputs": [
        {
          "output_type": "stream",
          "text": [
            "------------------\n",
            "PROCESSING STOCK DATA...\n",
            "------------------\n",
            "{'Meta Data': {'1. Information': 'Daily Prices (open, high, low, close) and Volumes', '2. Symbol': 'MSFT', '3. Last Refreshed': '2020-06-08', '4. Output Size': 'Compact', '5. Time Zone': 'US/Eastern'}, 'Time Series (Daily)': {'2020-06-08': {'1. open': '185.9400', '2. high': '188.5500', '3. low': '184.4400', '4. close': '188.3600', '5. volume': '33123035'}, '2020-06-05': {'1. open': '182.6200', '2. high': '187.7300', '3. low': '182.0100', '4. close': '187.2000', '5. volume': '39893643'}, '2020-06-04': {'1. open': '184.3000', '2. high': '185.8400', '3. low': '182.3000', '4. close': '182.9200', '5. volume': '28761809'}}}\n"
          ],
          "name": "stdout"
        }
      ]
    }
  ]
}